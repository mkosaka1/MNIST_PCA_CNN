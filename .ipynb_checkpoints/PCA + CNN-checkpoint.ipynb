{
 "cells": [
  {
   "cell_type": "code",
   "execution_count": 1,
   "metadata": {},
   "outputs": [
    {
     "name": "stderr",
     "output_type": "stream",
     "text": [
      "\n",
      "Bad key \"text.kerning_factor\" on line 4 in\n",
      "/opt/anaconda3/envs/learn-env/lib/python3.6/site-packages/matplotlib/mpl-data/stylelib/_classic_test_patch.mplstyle.\n",
      "You probably need to get an updated matplotlibrc file from\n",
      "http://github.com/matplotlib/matplotlib/blob/master/matplotlibrc.template\n",
      "or from the matplotlib source distribution\n",
      "Using TensorFlow backend.\n"
     ]
    }
   ],
   "source": [
    "# Import libraries\n",
    "%matplotlib inline\n",
    "import pandas as pd\n",
    "from sklearn.decomposition import PCA\n",
    "import numpy as np\n",
    "import matplotlib.pyplot as plt\n",
    "from sklearn.preprocessing import StandardScaler\n",
    "from keras.utils.np_utils import to_categorical\n",
    "from sklearn.preprocessing import StandardScaler\n",
    "from tensorflow.keras.layers import Input,InputLayer, Dense, Activation, ZeroPadding2D, BatchNormalization, Flatten, Conv2D\n",
    "from tensorflow.keras.layers import AveragePooling2D, MaxPooling2D, Dropout\n",
    "from tensorflow.keras.models import Sequential,Model\n",
    "from tensorflow.keras.optimizers import SGD\n",
    "from tensorflow.keras.callbacks import ModelCheckpoint,LearningRateScheduler\n",
    "import keras\n",
    "from tensorflow.keras import backend as K\n",
    "from scipy.linalg import eigh"
   ]
  },
  {
   "cell_type": "code",
   "execution_count": 34,
   "metadata": {},
   "outputs": [
    {
     "data": {
      "text/html": [
       "<div>\n",
       "<style scoped>\n",
       "    .dataframe tbody tr th:only-of-type {\n",
       "        vertical-align: middle;\n",
       "    }\n",
       "\n",
       "    .dataframe tbody tr th {\n",
       "        vertical-align: top;\n",
       "    }\n",
       "\n",
       "    .dataframe thead th {\n",
       "        text-align: right;\n",
       "    }\n",
       "</style>\n",
       "<table border=\"1\" class=\"dataframe\">\n",
       "  <thead>\n",
       "    <tr style=\"text-align: right;\">\n",
       "      <th></th>\n",
       "      <th>label</th>\n",
       "      <th>pixel0</th>\n",
       "      <th>pixel1</th>\n",
       "      <th>pixel2</th>\n",
       "      <th>pixel3</th>\n",
       "      <th>pixel4</th>\n",
       "      <th>pixel5</th>\n",
       "      <th>pixel6</th>\n",
       "      <th>pixel7</th>\n",
       "      <th>pixel8</th>\n",
       "      <th>...</th>\n",
       "      <th>pixel774</th>\n",
       "      <th>pixel775</th>\n",
       "      <th>pixel776</th>\n",
       "      <th>pixel777</th>\n",
       "      <th>pixel778</th>\n",
       "      <th>pixel779</th>\n",
       "      <th>pixel780</th>\n",
       "      <th>pixel781</th>\n",
       "      <th>pixel782</th>\n",
       "      <th>pixel783</th>\n",
       "    </tr>\n",
       "  </thead>\n",
       "  <tbody>\n",
       "    <tr>\n",
       "      <th>0</th>\n",
       "      <td>1</td>\n",
       "      <td>0</td>\n",
       "      <td>0</td>\n",
       "      <td>0</td>\n",
       "      <td>0</td>\n",
       "      <td>0</td>\n",
       "      <td>0</td>\n",
       "      <td>0</td>\n",
       "      <td>0</td>\n",
       "      <td>0</td>\n",
       "      <td>...</td>\n",
       "      <td>0</td>\n",
       "      <td>0</td>\n",
       "      <td>0</td>\n",
       "      <td>0</td>\n",
       "      <td>0</td>\n",
       "      <td>0</td>\n",
       "      <td>0</td>\n",
       "      <td>0</td>\n",
       "      <td>0</td>\n",
       "      <td>0</td>\n",
       "    </tr>\n",
       "    <tr>\n",
       "      <th>1</th>\n",
       "      <td>0</td>\n",
       "      <td>0</td>\n",
       "      <td>0</td>\n",
       "      <td>0</td>\n",
       "      <td>0</td>\n",
       "      <td>0</td>\n",
       "      <td>0</td>\n",
       "      <td>0</td>\n",
       "      <td>0</td>\n",
       "      <td>0</td>\n",
       "      <td>...</td>\n",
       "      <td>0</td>\n",
       "      <td>0</td>\n",
       "      <td>0</td>\n",
       "      <td>0</td>\n",
       "      <td>0</td>\n",
       "      <td>0</td>\n",
       "      <td>0</td>\n",
       "      <td>0</td>\n",
       "      <td>0</td>\n",
       "      <td>0</td>\n",
       "    </tr>\n",
       "    <tr>\n",
       "      <th>2</th>\n",
       "      <td>1</td>\n",
       "      <td>0</td>\n",
       "      <td>0</td>\n",
       "      <td>0</td>\n",
       "      <td>0</td>\n",
       "      <td>0</td>\n",
       "      <td>0</td>\n",
       "      <td>0</td>\n",
       "      <td>0</td>\n",
       "      <td>0</td>\n",
       "      <td>...</td>\n",
       "      <td>0</td>\n",
       "      <td>0</td>\n",
       "      <td>0</td>\n",
       "      <td>0</td>\n",
       "      <td>0</td>\n",
       "      <td>0</td>\n",
       "      <td>0</td>\n",
       "      <td>0</td>\n",
       "      <td>0</td>\n",
       "      <td>0</td>\n",
       "    </tr>\n",
       "    <tr>\n",
       "      <th>3</th>\n",
       "      <td>4</td>\n",
       "      <td>0</td>\n",
       "      <td>0</td>\n",
       "      <td>0</td>\n",
       "      <td>0</td>\n",
       "      <td>0</td>\n",
       "      <td>0</td>\n",
       "      <td>0</td>\n",
       "      <td>0</td>\n",
       "      <td>0</td>\n",
       "      <td>...</td>\n",
       "      <td>0</td>\n",
       "      <td>0</td>\n",
       "      <td>0</td>\n",
       "      <td>0</td>\n",
       "      <td>0</td>\n",
       "      <td>0</td>\n",
       "      <td>0</td>\n",
       "      <td>0</td>\n",
       "      <td>0</td>\n",
       "      <td>0</td>\n",
       "    </tr>\n",
       "    <tr>\n",
       "      <th>4</th>\n",
       "      <td>0</td>\n",
       "      <td>0</td>\n",
       "      <td>0</td>\n",
       "      <td>0</td>\n",
       "      <td>0</td>\n",
       "      <td>0</td>\n",
       "      <td>0</td>\n",
       "      <td>0</td>\n",
       "      <td>0</td>\n",
       "      <td>0</td>\n",
       "      <td>...</td>\n",
       "      <td>0</td>\n",
       "      <td>0</td>\n",
       "      <td>0</td>\n",
       "      <td>0</td>\n",
       "      <td>0</td>\n",
       "      <td>0</td>\n",
       "      <td>0</td>\n",
       "      <td>0</td>\n",
       "      <td>0</td>\n",
       "      <td>0</td>\n",
       "    </tr>\n",
       "  </tbody>\n",
       "</table>\n",
       "<p>5 rows × 785 columns</p>\n",
       "</div>"
      ],
      "text/plain": [
       "   label  pixel0  pixel1  pixel2  pixel3  pixel4  pixel5  pixel6  pixel7  \\\n",
       "0      1       0       0       0       0       0       0       0       0   \n",
       "1      0       0       0       0       0       0       0       0       0   \n",
       "2      1       0       0       0       0       0       0       0       0   \n",
       "3      4       0       0       0       0       0       0       0       0   \n",
       "4      0       0       0       0       0       0       0       0       0   \n",
       "\n",
       "   pixel8  ...  pixel774  pixel775  pixel776  pixel777  pixel778  pixel779  \\\n",
       "0       0  ...         0         0         0         0         0         0   \n",
       "1       0  ...         0         0         0         0         0         0   \n",
       "2       0  ...         0         0         0         0         0         0   \n",
       "3       0  ...         0         0         0         0         0         0   \n",
       "4       0  ...         0         0         0         0         0         0   \n",
       "\n",
       "   pixel780  pixel781  pixel782  pixel783  \n",
       "0         0         0         0         0  \n",
       "1         0         0         0         0  \n",
       "2         0         0         0         0  \n",
       "3         0         0         0         0  \n",
       "4         0         0         0         0  \n",
       "\n",
       "[5 rows x 785 columns]"
      ]
     },
     "execution_count": 34,
     "metadata": {},
     "output_type": "execute_result"
    }
   ],
   "source": [
    "# Load Data\n",
    "train = pd.read_csv(\"data/train.csv\")\n",
    "test = pd.read_csv(\"data/test.csv\")\n",
    "train.head()"
   ]
  },
  {
   "cell_type": "code",
   "execution_count": 35,
   "metadata": {
    "scrolled": true
   },
   "outputs": [
    {
     "data": {
      "text/plain": [
       "((42000, 784), (42000,), (28000, 784))"
      ]
     },
     "execution_count": 35,
     "metadata": {},
     "output_type": "execute_result"
    }
   ],
   "source": [
    "# Split data\n",
    "y_train = train['label']\n",
    "X_train = train.drop(['label'], axis=1)\n",
    "X_test = test\n",
    "X_train.shape, y_train.shape, X_test.shape"
   ]
  },
  {
   "cell_type": "markdown",
   "metadata": {},
   "source": [
    "### Data Normalization"
   ]
  },
  {
   "cell_type": "code",
   "execution_count": 36,
   "metadata": {},
   "outputs": [],
   "source": [
    "X_train = X_train/255\n",
    "X_test = X_test/255"
   ]
  },
  {
   "cell_type": "code",
   "execution_count": 5,
   "metadata": {},
   "outputs": [
    {
     "name": "stdout",
     "output_type": "stream",
     "text": [
      "IMAGE LABEL: 0\n"
     ]
    },
    {
     "data": {
      "image/png": "[encoded data removed]",
      "text/plain": [
       "<Figure size 432x288 with 2 Axes>"
      ]
     },
     "metadata": {
      "needs_background": "light"
     },
     "output_type": "display_data"
    }
   ],
   "source": [
    "# Visualize single digit\n",
    "digit_array = train.loc[5, \"pixel0\":]\n",
    "arr = np.array(digit_array) \n",
    "\n",
    "#.reshape(a, (28,28))\n",
    "image_array = np.reshape(arr, (28,28))\n",
    "\n",
    "digit_img = plt.imshow(image_array, cmap=plt.cm.binary)\n",
    "plt.colorbar(digit_img)\n",
    "print(\"IMAGE LABEL: {}\".format(train.loc[5, \"label\"]))"
   ]
  },
  {
   "cell_type": "markdown",
   "metadata": {},
   "source": [
    "## PCA Implementation"
   ]
  },
  {
   "cell_type": "code",
   "execution_count": 6,
   "metadata": {},
   "outputs": [
    {
     "data": {
      "text/plain": [
       "(42000, 784)"
      ]
     },
     "execution_count": 6,
     "metadata": {},
     "output_type": "execute_result"
    }
   ],
   "source": [
    "standardized_scalar = StandardScaler()\n",
    "standardized_data = standardized_scalar.fit_transform(X_train)\n",
    "standardized_data.shape"
   ]
  },
  {
   "cell_type": "code",
   "execution_count": 7,
   "metadata": {},
   "outputs": [
    {
     "data": {
      "text/plain": [
       "(784, 784)"
      ]
     },
     "execution_count": 7,
     "metadata": {},
     "output_type": "execute_result"
    }
   ],
   "source": [
    "# Calculate covariance matrix\n",
    "cov_matrix = np.matmul(standardized_data.T, standardized_data)\n",
    "cov_matrix.shape"
   ]
  },
  {
   "cell_type": "code",
   "execution_count": 8,
   "metadata": {},
   "outputs": [
    {
     "data": {
      "text/plain": [
       "(784, 2)"
      ]
     },
     "execution_count": 8,
     "metadata": {},
     "output_type": "execute_result"
    }
   ],
   "source": [
    "# Calculate eigenvalues and eigenvectors\n",
    "lambdas, vectors = eigh(cov_matrix, eigvals=(782, 783))\n",
    "vectors.shape"
   ]
  },
  {
   "cell_type": "code",
   "execution_count": 9,
   "metadata": {},
   "outputs": [
    {
     "data": {
      "text/plain": [
       "(2, 784)"
      ]
     },
     "execution_count": 9,
     "metadata": {},
     "output_type": "execute_result"
    }
   ],
   "source": [
    "vectors = vectors.T\n",
    "vectors.shape"
   ]
  },
  {
   "cell_type": "code",
   "execution_count": 10,
   "metadata": {},
   "outputs": [
    {
     "name": "stdout",
     "output_type": "stream",
     "text": [
      "(2, 42000)\n"
     ]
    }
   ],
   "source": [
    "#Calculate unit vectors U1=V1 and new coordinates\n",
    "new_coordinates = np.matmul(vectors, standardized_data.T)\n",
    "print(new_coordinates.shape)\n",
    "new_coordinates = np.vstack((new_coordinates, y_train)).T"
   ]
  },
  {
   "cell_type": "code",
   "execution_count": 11,
   "metadata": {
    "scrolled": true
   },
   "outputs": [
    {
     "data": {
      "text/html": [
       "<div>\n",
       "<style scoped>\n",
       "    .dataframe tbody tr th:only-of-type {\n",
       "        vertical-align: middle;\n",
       "    }\n",
       "\n",
       "    .dataframe tbody tr th {\n",
       "        vertical-align: top;\n",
       "    }\n",
       "\n",
       "    .dataframe thead th {\n",
       "        text-align: right;\n",
       "    }\n",
       "</style>\n",
       "<table border=\"1\" class=\"dataframe\">\n",
       "  <thead>\n",
       "    <tr style=\"text-align: right;\">\n",
       "      <th></th>\n",
       "      <th>f1</th>\n",
       "      <th>f2</th>\n",
       "      <th>labels</th>\n",
       "    </tr>\n",
       "  </thead>\n",
       "  <tbody>\n",
       "    <tr>\n",
       "      <th>0</th>\n",
       "      <td>-5.226445</td>\n",
       "      <td>-5.140478</td>\n",
       "      <td>1.0</td>\n",
       "    </tr>\n",
       "    <tr>\n",
       "      <th>1</th>\n",
       "      <td>6.032996</td>\n",
       "      <td>19.292332</td>\n",
       "      <td>0.0</td>\n",
       "    </tr>\n",
       "    <tr>\n",
       "      <th>2</th>\n",
       "      <td>-1.705813</td>\n",
       "      <td>-7.644503</td>\n",
       "      <td>1.0</td>\n",
       "    </tr>\n",
       "    <tr>\n",
       "      <th>3</th>\n",
       "      <td>5.836139</td>\n",
       "      <td>-0.474207</td>\n",
       "      <td>4.0</td>\n",
       "    </tr>\n",
       "    <tr>\n",
       "      <th>4</th>\n",
       "      <td>6.024818</td>\n",
       "      <td>26.559574</td>\n",
       "      <td>0.0</td>\n",
       "    </tr>\n",
       "  </tbody>\n",
       "</table>\n",
       "</div>"
      ],
      "text/plain": [
       "         f1         f2  labels\n",
       "0 -5.226445  -5.140478     1.0\n",
       "1  6.032996  19.292332     0.0\n",
       "2 -1.705813  -7.644503     1.0\n",
       "3  5.836139  -0.474207     4.0\n",
       "4  6.024818  26.559574     0.0"
      ]
     },
     "execution_count": 11,
     "metadata": {},
     "output_type": "execute_result"
    }
   ],
   "source": [
    "df_new = pd.DataFrame(new_coordinates, columns=[\"f1\", \"f2\", \"labels\"])\n",
    "df_new.head()"
   ]
  },
  {
   "cell_type": "code",
   "execution_count": 13,
   "metadata": {},
   "outputs": [],
   "source": [
    "from sklearn import decomposition\n",
    "\n",
    "pca = decomposition.PCA()\n",
    "pca.n_components = 784\n",
    "pca_data = pca.fit_transform(standardized_data)\n",
    "percent_variance_retained = pca.explained_variance_ / np.sum(pca.explained_variance_)\n",
    "\n",
    "cum_variance_retained = np.cumsum(percent_variance_retained)"
   ]
  },
  {
   "cell_type": "code",
   "execution_count": 14,
   "metadata": {
    "scrolled": true
   },
   "outputs": [
    {
     "data": {
      "image/png": "[encoded data removed]",
      "text/plain": [
       "<Figure size 720x432 with 1 Axes>"
      ]
     },
     "metadata": {
      "needs_background": "light"
     },
     "output_type": "display_data"
    }
   ],
   "source": [
    "plt.figure(1, figsize=(10, 6))\n",
    "plt.clf()\n",
    "plt.plot(cum_variance_retained, linewidth=2)\n",
    "plt.axis(\"tight\")\n",
    "plt.grid()\n",
    "plt.xlabel(\"number of compoments\")\n",
    "plt.ylabel(\"cumulative variance retained\")\n",
    "plt.savefig(\"pca_cumulative_variance.png\")\n",
    "plt.show()"
   ]
  },
  {
   "cell_type": "markdown",
   "metadata": {},
   "source": [
    "## CNN Model"
   ]
  },
  {
   "cell_type": "markdown",
   "metadata": {},
   "source": [
    "### Preprocessing Data"
   ]
  },
  {
   "cell_type": "code",
   "execution_count": 37,
   "metadata": {},
   "outputs": [],
   "source": [
    "X_train = np.array(X_train)\n",
    "y_train = np.array(y_train)"
   ]
  },
  {
   "cell_type": "code",
   "execution_count": 38,
   "metadata": {},
   "outputs": [
    {
     "data": {
      "image/png": "[encoded data removed]",
      "text/plain": [
       "<Figure size 1440x288 with 5 Axes>"
      ]
     },
     "metadata": {
      "needs_background": "light"
     },
     "output_type": "display_data"
    }
   ],
   "source": [
    "plt.figure(figsize=(20,4))\n",
    "for index, (image, label) in enumerate(zip(X_train[0:5], y_train[0:5])):\n",
    "    plt.subplot(1, 5, index + 1)\n",
    "    plt.imshow(np.reshape(image, (28,28)), cmap=plt.cm.gray)\n",
    "    plt.title('Training: %i\\n' % label, fontsize = 20)"
   ]
  },
  {
   "cell_type": "code",
   "execution_count": 32,
   "metadata": {},
   "outputs": [
    {
     "name": "stdout",
     "output_type": "stream",
     "text": [
      "(42000, 28, 28, 1) (42000, 10)\n"
     ]
    }
   ],
   "source": [
    "# Reshaping the input shapes to get it in the shape which the model expects to recieve later.\n",
    "X_train = X_train.reshape(X_train.shape[0], 28, 28, 1)\n",
    "print(X_train.shape, y_train.shape)"
   ]
  },
  {
   "cell_type": "code",
   "execution_count": 17,
   "metadata": {
    "scrolled": false
   },
   "outputs": [
    {
     "name": "stdout",
     "output_type": "stream",
     "text": [
      "Shape of ytrain after encoding:  (42000, 10)\n"
     ]
    }
   ],
   "source": [
    "# Encoding the labels and making them as the class value and finally converting them as categorical values.\n",
    "nclasses = y_train.max() - y_train.min() + 1\n",
    "y_train = to_categorical(y_train, num_classes = nclasses)\n",
    "print(\"Shape of ytrain after encoding: \", y_train.shape)"
   ]
  },
  {
   "cell_type": "markdown",
   "metadata": {},
   "source": [
    "### Building CNN Model"
   ]
  },
  {
   "cell_type": "code",
   "execution_count": 18,
   "metadata": {},
   "outputs": [
    {
     "name": "stdout",
     "output_type": "stream",
     "text": [
      "Model: \"Predict\"\n",
      "_________________________________________________________________\n",
      "Layer (type)                 Output Shape              Param #   \n",
      "=================================================================\n",
      "input_1 (InputLayer)         [(None, 28, 28, 1)]       0         \n",
      "_________________________________________________________________\n",
      "layer_conv1 (Conv2D)         (None, 28, 28, 64)        640       \n",
      "_________________________________________________________________\n",
      "batch_normalization (BatchNo (None, 28, 28, 64)        256       \n",
      "_________________________________________________________________\n",
      "activation (Activation)      (None, 28, 28, 64)        0         \n",
      "_________________________________________________________________\n",
      "maxPool1 (MaxPooling2D)      (None, 14, 14, 64)        0         \n",
      "_________________________________________________________________\n",
      "layer_conv2 (Conv2D)         (None, 14, 14, 32)        18464     \n",
      "_________________________________________________________________\n",
      "batch_normalization_1 (Batch (None, 14, 14, 32)        128       \n",
      "_________________________________________________________________\n",
      "activation_1 (Activation)    (None, 14, 14, 32)        0         \n",
      "_________________________________________________________________\n",
      "maxPool2 (MaxPooling2D)      (None, 7, 7, 32)          0         \n",
      "_________________________________________________________________\n",
      "conv3 (Conv2D)               (None, 7, 7, 32)          9248      \n",
      "_________________________________________________________________\n",
      "batch_normalization_2 (Batch (None, 7, 7, 32)          128       \n",
      "_________________________________________________________________\n",
      "activation_2 (Activation)    (None, 7, 7, 32)          0         \n",
      "_________________________________________________________________\n",
      "maxPool3 (MaxPooling2D)      (None, 3, 3, 32)          0         \n",
      "_________________________________________________________________\n",
      "flatten (Flatten)            (None, 288)               0         \n",
      "_________________________________________________________________\n",
      "fc0 (Dense)                  (None, 64)                18496     \n",
      "_________________________________________________________________\n",
      "dropout (Dropout)            (None, 64)                0         \n",
      "_________________________________________________________________\n",
      "fc1 (Dense)                  (None, 32)                2080      \n",
      "_________________________________________________________________\n",
      "dropout_1 (Dropout)          (None, 32)                0         \n",
      "_________________________________________________________________\n",
      "fc2 (Dense)                  (None, 10)                330       \n",
      "=================================================================\n",
      "Total params: 49,770\n",
      "Trainable params: 49,514\n",
      "Non-trainable params: 256\n",
      "_________________________________________________________________\n"
     ]
    }
   ],
   "source": [
    "# Building a CNN model\n",
    "input_shape = (28,28,1)\n",
    "X_input = Input(input_shape)\n",
    "\n",
    "# layer 1\n",
    "x = Conv2D(64,(3,3),strides=(1,1),name='layer_conv1',padding='same')(X_input)\n",
    "x = BatchNormalization()(x)\n",
    "x = Activation('relu')(x)\n",
    "x = MaxPooling2D((2,2),name='maxPool1')(x)\n",
    "# layer 2\n",
    "x = Conv2D(32,(3,3),strides=(1,1),name='layer_conv2',padding='same')(x)\n",
    "x = BatchNormalization()(x)\n",
    "x = Activation('relu')(x)\n",
    "x = MaxPooling2D((2,2),name='maxPool2')(x)\n",
    "# layer 3\n",
    "x = Conv2D(32,(3,3),strides=(1,1),name='conv3',padding='same')(x)\n",
    "x = BatchNormalization()(x)\n",
    "x = Activation('relu')(x)\n",
    "x = MaxPooling2D((2,2), name='maxPool3')(x)\n",
    "# fc\n",
    "x = Flatten()(x)\n",
    "x = Dense(64,activation ='relu',name='fc0')(x)\n",
    "x = Dropout(0.25)(x)\n",
    "x = Dense(32,activation ='relu',name='fc1')(x)\n",
    "x = Dropout(0.25)(x)\n",
    "x = Dense(10,activation ='softmax',name='fc2')(x)\n",
    "\n",
    "conv_model = Model(inputs=X_input, outputs=x, name='Predict')\n",
    "conv_model.summary()"
   ]
  },
  {
   "cell_type": "code",
   "execution_count": 19,
   "metadata": {},
   "outputs": [],
   "source": [
    "def compile_model(conv_model, optimizer='adam', loss='categorical_crossentropy'):\n",
    "    conv_model.compile(optimizer=optimizer, loss=loss, metrics=[\"accuracy\"])\n",
    "    \n",
    "    \n",
    "def train_model(conv_model, train, test, epochs, split):\n",
    "    history = conv_model.fit(train, test, shuffle=True, epochs=epochs, batch_size=100,validation_split=split)\n",
    "    return history"
   ]
  },
  {
   "cell_type": "code",
   "execution_count": 20,
   "metadata": {
    "scrolled": false
   },
   "outputs": [
    {
     "name": "stdout",
     "output_type": "stream",
     "text": [
      "Epoch 1/40\n",
      "336/336 [==============================] - 49s 145ms/step - loss: 0.6567 - accuracy: 0.7910 - val_loss: 1.4219 - val_accuracy: 0.4815\n",
      "Epoch 2/40\n",
      "336/336 [==============================] - 46s 137ms/step - loss: 0.1562 - accuracy: 0.9572 - val_loss: 0.0770 - val_accuracy: 0.9779\n",
      "Epoch 3/40\n",
      "336/336 [==============================] - 41s 122ms/step - loss: 0.1028 - accuracy: 0.9717 - val_loss: 0.0615 - val_accuracy: 0.9815\n",
      "Epoch 4/40\n",
      "336/336 [==============================] - 41s 121ms/step - loss: 0.0821 - accuracy: 0.9772 - val_loss: 0.0631 - val_accuracy: 0.9824\n",
      "Epoch 5/40\n",
      "336/336 [==============================] - 40s 119ms/step - loss: 0.0687 - accuracy: 0.9808 - val_loss: 0.0522 - val_accuracy: 0.9844\n",
      "Epoch 6/40\n",
      "336/336 [==============================] - 39s 115ms/step - loss: 0.0571 - accuracy: 0.9836 - val_loss: 0.0421 - val_accuracy: 0.9876\n",
      "Epoch 7/40\n",
      "336/336 [==============================] - 38s 113ms/step - loss: 0.0549 - accuracy: 0.9845 - val_loss: 0.0656 - val_accuracy: 0.9844\n",
      "Epoch 8/40\n",
      "336/336 [==============================] - 39s 115ms/step - loss: 0.0484 - accuracy: 0.9872 - val_loss: 0.0536 - val_accuracy: 0.9845\n",
      "Epoch 9/40\n",
      "336/336 [==============================] - 38s 114ms/step - loss: 0.0453 - accuracy: 0.9871 - val_loss: 0.0872 - val_accuracy: 0.9781\n",
      "Epoch 10/40\n",
      "336/336 [==============================] - 39s 115ms/step - loss: 0.0417 - accuracy: 0.9884 - val_loss: 0.0556 - val_accuracy: 0.9869\n",
      "Epoch 11/40\n",
      "336/336 [==============================] - 40s 118ms/step - loss: 0.0365 - accuracy: 0.9904 - val_loss: 0.0532 - val_accuracy: 0.9875\n",
      "Epoch 12/40\n",
      "336/336 [==============================] - 44s 131ms/step - loss: 0.0319 - accuracy: 0.9908 - val_loss: 0.0600 - val_accuracy: 0.9852\n",
      "Epoch 13/40\n",
      "336/336 [==============================] - 42s 124ms/step - loss: 0.0318 - accuracy: 0.9911 - val_loss: 0.0551 - val_accuracy: 0.9848\n",
      "Epoch 14/40\n",
      "336/336 [==============================] - 41s 123ms/step - loss: 0.0273 - accuracy: 0.9914 - val_loss: 0.0378 - val_accuracy: 0.9910\n",
      "Epoch 15/40\n",
      "336/336 [==============================] - 40s 119ms/step - loss: 0.0248 - accuracy: 0.9928 - val_loss: 0.0569 - val_accuracy: 0.9887\n",
      "Epoch 16/40\n",
      "336/336 [==============================] - 42s 126ms/step - loss: 0.0256 - accuracy: 0.9925 - val_loss: 0.0655 - val_accuracy: 0.9862\n",
      "Epoch 17/40\n",
      "336/336 [==============================] - 41s 123ms/step - loss: 0.0278 - accuracy: 0.9924 - val_loss: 0.0490 - val_accuracy: 0.9901\n",
      "Epoch 18/40\n",
      "336/336 [==============================] - 42s 126ms/step - loss: 0.0208 - accuracy: 0.9940 - val_loss: 0.0536 - val_accuracy: 0.9893\n",
      "Epoch 19/40\n",
      "336/336 [==============================] - 45s 134ms/step - loss: 0.0208 - accuracy: 0.9939 - val_loss: 0.0507 - val_accuracy: 0.9895\n",
      "Epoch 20/40\n",
      "336/336 [==============================] - 44s 130ms/step - loss: 0.0233 - accuracy: 0.9937 - val_loss: 0.0461 - val_accuracy: 0.9910\n",
      "Epoch 21/40\n",
      "336/336 [==============================] - 44s 132ms/step - loss: 0.0210 - accuracy: 0.9940 - val_loss: 0.0612 - val_accuracy: 0.9892\n",
      "Epoch 22/40\n",
      "336/336 [==============================] - 40s 120ms/step - loss: 0.0200 - accuracy: 0.9945 - val_loss: 0.0558 - val_accuracy: 0.9886\n",
      "Epoch 23/40\n",
      "336/336 [==============================] - 39s 115ms/step - loss: 0.0174 - accuracy: 0.9950 - val_loss: 0.0912 - val_accuracy: 0.9831\n",
      "Epoch 24/40\n",
      "336/336 [==============================] - 42s 125ms/step - loss: 0.0198 - accuracy: 0.9942 - val_loss: 0.0559 - val_accuracy: 0.9889\n",
      "Epoch 25/40\n",
      "336/336 [==============================] - 49s 145ms/step - loss: 0.0184 - accuracy: 0.9952 - val_loss: 0.1095 - val_accuracy: 0.9804\n",
      "Epoch 26/40\n",
      "336/336 [==============================] - 44s 130ms/step - loss: 0.0149 - accuracy: 0.9954 - val_loss: 0.0587 - val_accuracy: 0.9902\n",
      "Epoch 27/40\n",
      "336/336 [==============================] - 38s 113ms/step - loss: 0.0178 - accuracy: 0.9948 - val_loss: 0.0839 - val_accuracy: 0.9821\n",
      "Epoch 28/40\n",
      "336/336 [==============================] - 38s 113ms/step - loss: 0.0164 - accuracy: 0.9953 - val_loss: 0.0565 - val_accuracy: 0.9905\n",
      "Epoch 29/40\n",
      "336/336 [==============================] - 38s 113ms/step - loss: 0.0171 - accuracy: 0.9951 - val_loss: 0.0531 - val_accuracy: 0.9893\n",
      "Epoch 30/40\n",
      "336/336 [==============================] - 38s 112ms/step - loss: 0.0128 - accuracy: 0.9960 - val_loss: 0.0516 - val_accuracy: 0.9906\n",
      "Epoch 31/40\n",
      "336/336 [==============================] - 39s 117ms/step - loss: 0.0124 - accuracy: 0.9966 - val_loss: 0.0586 - val_accuracy: 0.9910\n",
      "Epoch 32/40\n",
      "336/336 [==============================] - 43s 127ms/step - loss: 0.0133 - accuracy: 0.9961 - val_loss: 0.0603 - val_accuracy: 0.9901\n",
      "Epoch 33/40\n",
      "336/336 [==============================] - 44s 130ms/step - loss: 0.0134 - accuracy: 0.9964 - val_loss: 0.0517 - val_accuracy: 0.9904\n",
      "Epoch 34/40\n",
      "336/336 [==============================] - 43s 127ms/step - loss: 0.0119 - accuracy: 0.9967 - val_loss: 0.0606 - val_accuracy: 0.9914\n",
      "Epoch 35/40\n",
      "336/336 [==============================] - 42s 125ms/step - loss: 0.0085 - accuracy: 0.9975 - val_loss: 0.0706 - val_accuracy: 0.9881\n",
      "Epoch 36/40\n",
      "336/336 [==============================] - 38s 113ms/step - loss: 0.0103 - accuracy: 0.9969 - val_loss: 0.0601 - val_accuracy: 0.9899\n",
      "Epoch 37/40\n",
      "336/336 [==============================] - 37s 110ms/step - loss: 0.0112 - accuracy: 0.9967 - val_loss: 0.0487 - val_accuracy: 0.9921\n",
      "Epoch 38/40\n",
      "336/336 [==============================] - 42s 124ms/step - loss: 0.0133 - accuracy: 0.9961 - val_loss: 0.0543 - val_accuracy: 0.9923\n",
      "Epoch 39/40\n",
      "336/336 [==============================] - 42s 126ms/step - loss: 0.0118 - accuracy: 0.9970 - val_loss: 0.0573 - val_accuracy: 0.9908\n",
      "Epoch 40/40\n",
      "336/336 [==============================] - 39s 116ms/step - loss: 0.0108 - accuracy: 0.9965 - val_loss: 0.0588 - val_accuracy: 0.9918\n"
     ]
    }
   ],
   "source": [
    "# Training the model using the above function built to build, compile and train the model\n",
    "compile_model(conv_model, 'adam', 'categorical_crossentropy')\n",
    "\n",
    "# train the model for as many epochs as you want but I found training it above 80 will not help us and eventually increase overfitting.\n",
    "model_history = train_model(conv_model, X_train, y_train, 40, 0.2)"
   ]
  },
  {
   "cell_type": "markdown",
   "metadata": {},
   "source": [
    "### Model Evaluation"
   ]
  },
  {
   "cell_type": "code",
   "execution_count": 29,
   "metadata": {},
   "outputs": [
    {
     "data": {
      "image/png": "[encoded data removed]",
      "text/plain": [
       "<Figure size 432x288 with 1 Axes>"
      ]
     },
     "metadata": {
      "needs_background": "light"
     },
     "output_type": "display_data"
    },
    {
     "data": {
      "image/png": "[encoded data removed]",
      "text/plain": [
       "<Figure size 432x288 with 1 Axes>"
      ]
     },
     "metadata": {
      "needs_background": "light"
     },
     "output_type": "display_data"
    }
   ],
   "source": [
    "# PLOT MODEL HISTORY OF ACCURACY AND LOSS OVER EPOCHS\n",
    "plt.plot(model_history.history['accuracy'])\n",
    "plt.plot(model_history.history['val_accuracy'])\n",
    "plt.title('Model Accuracy')\n",
    "plt.ylabel('Accuracy')\n",
    "plt.xlabel('Epoch')\n",
    "plt.legend(['Train', 'Test'], loc='upper left')\n",
    "plt.savefig('Model_Accuracy.png')\n",
    "plt.show()\n",
    "# summarize history for loss\n",
    "plt.plot(model_history.history['loss'])\n",
    "plt.plot(model_history.history['val_loss'])\n",
    "plt.title('Model Loss')\n",
    "plt.ylabel('Loss')\n",
    "plt.xlabel('Epoch')\n",
    "plt.legend(['train', 'test'], loc='upper left')\n",
    "plt.savefig('Model_loss.png')\n",
    "plt.show()"
   ]
  },
  {
   "cell_type": "code",
   "execution_count": 25,
   "metadata": {},
   "outputs": [
    {
     "name": "stdout",
     "output_type": "stream",
     "text": [
      "1313/1313 [==============================] - 15s 12ms/step - loss: 0.0131 - accuracy: 0.9980\n",
      "Loss of the model is -  0.013137700967490673\n",
      "1313/1313 [==============================] - 13s 10ms/step - loss: 0.0131 - accuracy: 0.9980\n",
      "Accuracy of the model is -  99.80000257492065 %\n"
     ]
    }
   ],
   "source": [
    "print(\"Loss of the model is - \" , conv_model.evaluate(X_train,y_train)[0])\n",
    "print(\"Accuracy of the model is - \" , conv_model.evaluate(X_train,y_train)[1]*100 , \"%\")"
   ]
  },
  {
   "cell_type": "code",
   "execution_count": null,
   "metadata": {},
   "outputs": [],
   "source": []
  }
 ],
 "metadata": {
  "kernelspec": {
   "display_name": "Python 3",
   "language": "python",
   "name": "python3"
  },
  "language_info": {
   "codemirror_mode": {
    "name": "ipython",
    "version": 3
   },
   "file_extension": ".py",
   "mimetype": "text/x-python",
   "name": "python",
   "nbconvert_exporter": "python",
   "pygments_lexer": "ipython3",
   "version": "3.6.9"
  }
 },
 "nbformat": 4,
 "nbformat_minor": 2
}
